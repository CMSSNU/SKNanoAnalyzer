{
 "cells": [
  {
   "cell_type": "code",
   "execution_count": 1,
   "metadata": {},
   "outputs": [],
   "source": [
    "import json"
   ]
  },
  {
   "cell_type": "code",
   "execution_count": 2,
   "metadata": {},
   "outputs": [],
   "source": [
    "with open(\"./NanoAODv15.json\") as f:\n",
    "    data = json.load(f)"
   ]
  },
  {
   "cell_type": "code",
   "execution_count": 3,
   "metadata": {},
   "outputs": [],
   "source": [
    "evt_content = data[\"Events Content\"]"
   ]
  },
  {
   "cell_type": "code",
   "execution_count": 4,
   "metadata": {},
   "outputs": [],
   "source": [
    "branches = evt_content.keys()"
   ]
  },
  {
   "cell_type": "code",
   "execution_count": 5,
   "metadata": {},
   "outputs": [
    {
     "data": {
      "text/plain": [
       "dict_keys(['BeamSpot', 'CaloMET', 'CorrT1METJet', 'DST', 'Dataset', 'DeepMETResolutionTune', 'DeepMETResponseTune', 'Electron', 'FatJet', 'FatJetPFCand', 'FiducialMET', 'Flag', 'FsrPhoton', 'GenDressedLepton', 'GenIsolatedPhoton', 'GenJet', 'GenJetAK8', 'GenMET', 'GenPart', 'GenProton', 'GenVisTau', 'GenVtx', 'Generator', 'HLT', 'HLTriggerFinalPath', 'HLTriggerFirstPath', 'HTXS', 'IsoTrack', 'Jet', 'L1', 'L1Reco', 'L1simulation', 'LHE', 'LHEPart', 'LHEPdfWeight', 'LHEReweightingWeight', 'LHEScaleWeight', 'LHEWeight', 'LowPtElectron', 'MC', 'Muon', 'OtherPV', 'PFCand', 'PFMET', 'PSWeight', 'PV', 'PVBS', 'Photon', 'Pileup', 'PuppiMET', 'RawPFMET', 'RawPuppiMET', 'Rho', 'SV', 'SoftActivityJet', 'SoftActivityJetHT', 'SoftActivityJetHT10', 'SoftActivityJetHT2', 'SoftActivityJetHT5', 'SoftActivityJetNjets10', 'SoftActivityJetNjets2', 'SoftActivityJetNjets5', 'SubGenJetAK8', 'SubJet', 'Tau', 'TauProd', 'TauSpinner', 'TrackGenJetAK4', 'TrigObj', 'TrkMET', 'boostedTau', 'bunchCrossing', 'event', 'genTtbarId', 'genWeight', 'luminosityBlock', 'orbitNumber', 'run'])"
      ]
     },
     "execution_count": 5,
     "metadata": {},
     "output_type": "execute_result"
    }
   ],
   "source": [
    "branches"
   ]
  },
  {
   "cell_type": "code",
   "execution_count": 6,
   "metadata": {},
   "outputs": [],
   "source": [
    "used_branch =['Electron',\n",
    "            'FatJet', 'FatJetPFCand','Flag', 'FsrPhoton', 'GenDressedLepton', 'GenIsolatedPhoton', 'GenJet', 'GenJetAK8', 'GenMET', 'GenPart',\n",
    "            'GenVisTau', 'GenVtx', 'Generator', \n",
    "            'IsoTrack', 'Jet', \n",
    "              'LHE', 'LHEPart', 'LHEPdfWeight', 'LHEReweightingWeight', 'LHEScaleWeight', 'LHEWeight', 'LowPtElectron', \n",
    "                'Muon', 'OtherPV', 'PFCand', 'PFMET', 'PSWeight', 'PV', 'Photon', 'Pileup', 'PuppiMET',\n",
    "                  'Rho', 'SV', \n",
    "                  'SubGenJetAK8', 'SubJet', 'Tau', 'TauProd', 'TauSpinner', 'TrackGenJetAK4', 'TrigObj', 'TrkMET', 'boostedTau', 'bunchCrossing', 'event', 'genTtbarId', 'genWeight', 'luminosityBlock', 'orbitNumber', 'run']"
   ]
  },
  {
   "cell_type": "code",
   "execution_count": 7,
   "metadata": {},
   "outputs": [],
   "source": [
    "def is_array(branch, evt_content):\n",
    "    leaf_list = evt_content\n",
    "    if any(leaf.startswith(f\"n{branch}\") for leaf in leaf_list[branch]):\n",
    "        return True\n",
    "    else:\n",
    "        return False\n",
    "\n",
    "def process_branch(branch, evt_content):\n",
    "    total_string = f\"// {branch}\\n\"\n",
    "    \n",
    "    for leaf in evt_content[branch]:\n",
    "\n",
    "        if leaf == f\"n{branch}\" and is_array(branch, evt_content):\n",
    "            total_string = total_string + f\"std::unique_ptr<TTreeReaderValue<{evt_content[branch][leaf]['type']}>> {leaf}_Ptr;\"\n",
    "            total_string = total_string + \"\\n\"\n",
    "            total_string = total_string + f\"{evt_content[branch][leaf]['type']} &{leaf};\"\n",
    "        elif is_array(branch, evt_content):\n",
    "            total_string = total_string + f\"std::unique_ptr<TTreeReaderArray<{evt_content[branch][leaf]['type']}>> {leaf}_Ptr;\"\n",
    "            total_string = total_string + \"\\n\"\n",
    "            total_string = total_string + f\"TTreeReaderArray<{evt_content[branch][leaf]['type']}> &{leaf};\"\n",
    "        else:\n",
    "            total_string = total_string + f\"std::unique_ptr<TTreeReaderValue<{evt_content[branch][leaf]['type']}>> {leaf}_Ptr;\"\n",
    "            total_string = total_string + \"\\n\"\n",
    "            total_string = total_string + f\"{evt_content[branch][leaf]['type']} {leaf};\"\n",
    "        total_string = total_string + \"\\n\"\n",
    "    return total_string"
   ]
  },
  {
   "cell_type": "code",
   "execution_count": 8,
   "metadata": {},
   "outputs": [],
   "source": [
    "def process_branch(branch, evt_content):\n",
    "    total_string = f\"// {branch}\\n\"\n",
    "    for leaf in evt_content[branch]:\n",
    "        if leaf == f\"n{branch}\" and is_array(branch, evt_content):\n",
    "            total_string = total_string + f\"TTreeReaderValueWrapper<{evt_content[branch][leaf]['type']}> {leaf};\"\n",
    "        elif is_array(branch, evt_content):\n",
    "            total_string = total_string + f\"TTreeReaderArrayWrapper<{evt_content[branch][leaf]['type']}> {leaf};\"\n",
    "        else:\n",
    "            total_string = total_string + f\"TTreeReaderValueWrapper<{evt_content[branch][leaf]['type']}> {leaf};\"\n",
    "\n",
    "        total_string = total_string + \"\\n\"\n",
    "    return total_string"
   ]
  },
  {
   "cell_type": "code",
   "execution_count": 9,
   "metadata": {},
   "outputs": [],
   "source": [
    "import os\n",
    "os.remove(\"header.h\")\n",
    "for branch in branches:\n",
    "    #clear the file\n",
    "    if not branch in used_branch:\n",
    "        continue\n",
    "    \n",
    "    with open(f\"header.h\", \"a\") as f:\n",
    "        f.write(process_branch(branch, evt_content))\n",
    "        f.write(\"\\n\")\n",
    "    "
   ]
  },
  {
   "cell_type": "code",
   "execution_count": 37,
   "metadata": {},
   "outputs": [],
   "source": [
    "def process_branch_src(branch, evt_content):\n",
    "    total_string = f\"// {branch}\\n\"\n",
    "    for leaf in evt_content[branch]:\n",
    "        if leaf == f\"n{branch}\" and is_array(branch, evt_content):\n",
    "            total_string = total_string + f\"{leaf}_Ptr = std::make_unique<TTreeReaderValue<{evt_content[branch][leaf]['type']}>>(*fReader, \\\"{leaf}\\\");\"\n",
    "            total_string = total_string + \"\\n\"\n",
    "            total_string = total_string + f\"{leaf} = **{leaf}_Ptr;\"\n",
    "        elif is_array(branch, evt_content):\n",
    "            total_string = total_string + f\"{leaf}_Ptr = std::make_unique<TTreeReaderArray<{evt_content[branch][leaf]['type']}>>(*fReader, \\\"{leaf}\\\");\"\n",
    "            total_string = total_string + \"\\n\"\n",
    "            total_string = total_string + f\"{leaf} = *{leaf}_Ptr;\"\n",
    "        else:\n",
    "            total_string = total_string + f\"{leaf}_Ptr = std::make_unique<TTreeReaderValue<{evt_content[branch][leaf]['type']}>>(*fReader, \\\"{leaf}\\\");\"\n",
    "            total_string = total_string + \"\\n\"\n",
    "            total_string = total_string + f\"{leaf} = **{leaf}_Ptr;\"\n",
    "\n",
    "        total_string = total_string + \"\\n\"\n",
    "    return total_string"
   ]
  },
  {
   "cell_type": "code",
   "execution_count": null,
   "metadata": {},
   "outputs": [],
   "source": [
    "def process_branch_src(branch, evt_content):\n",
    "    total_string = f\"// {branch}\\n\"\n",
    "    for leaf in evt_content[branch]:\n",
    "        if leaf == f\"n{branch}\" and is_array(branch, evt_content):\n",
    "            total_string = total_string + f\"{leaf}.init(fReader, \\\"{leaf}\\\");\"\n",
    "            total_string = total_string + \"\\n\"\n",
    "            total_string = total_string + f\"{leaf} = **{leaf}_Ptr;\"\n",
    "        elif is_array(branch, evt_content):\n",
    "            total_string = total_string + f\"{leaf} = new TTreeReaderArray<{evt_content[branch][leaf]['type']}>(*fReader, \\\"{leaf}\\\");\"\n",
    "        else:\n",
    "            total_string = total_string + f\"{leaf}_Ptr = new TTreeReaderValue<{evt_content[branch][leaf]['type']}>(*fReader, \\\"{leaf}\\\");\"\n",
    "            total_string = total_string + \"\\n\"\n",
    "            total_string = total_string + f\"{leaf} = **{leaf}_Ptr;\"\n",
    "        total_string = total_string + \"\\n\"\n",
    "    return total_string"
   ]
  },
  {
   "cell_type": "code",
   "execution_count": 38,
   "metadata": {},
   "outputs": [],
   "source": [
    "import os\n",
    "if os.path.exists(\"src.cc\"):\n",
    "    os.remove(\"src.cc\")\n",
    "for branch in branches:\n",
    "    if not branch in used_branch:\n",
    "        continue\n",
    "    #clear the file\n",
    "    with open(f\"src.cc\", \"a\") as f:\n",
    "        f.write(process_branch_src(branch, evt_content))\n",
    "        f.write(\"\\n\")\n"
   ]
  },
  {
   "cell_type": "code",
   "execution_count": 20,
   "metadata": {},
   "outputs": [],
   "source": [
    "def process_branch_src(branch, evt_content):\n",
    "    total_string = f\"// {branch}\\n\"\n",
    "    for leaf in evt_content[branch]:\n",
    "        if leaf == f\"n{branch}\" and is_array(branch, evt_content):\n",
    "            total_string = total_string + f\"delete {leaf}_Ptr;\"\n",
    "        elif is_array(branch, evt_content):\n",
    "            total_string = total_string + f\"delete {leaf};\"\n",
    "        else:\n",
    "            total_string = total_string + f\"delete {leaf}_Ptr;\"\n",
    "        total_string = total_string + \"\\n\"\n",
    "    return total_string"
   ]
  },
  {
   "cell_type": "code",
   "execution_count": 21,
   "metadata": {},
   "outputs": [],
   "source": [
    "import os\n",
    "if os.path.exists(\"src_del.cc\"):\n",
    "    os.remove(\"src_del.cc\")\n",
    "for branch in branches:\n",
    "    if not branch in used_branch:\n",
    "        continue\n",
    "    #clear the file\n",
    "    with open(f\"src_del.cc\", \"a\") as f:\n",
    "        f.write(process_branch_src(branch, evt_content))\n",
    "        f.write(\"\\n\")\n"
   ]
  },
  {
   "cell_type": "code",
   "execution_count": null,
   "metadata": {},
   "outputs": [],
   "source": []
  },
  {
   "cell_type": "code",
   "execution_count": null,
   "metadata": {},
   "outputs": [],
   "source": []
  }
 ],
 "metadata": {
  "kernelspec": {
   "display_name": "Nano",
   "language": "python",
   "name": "python3"
  },
  "language_info": {
   "codemirror_mode": {
    "name": "ipython",
    "version": 3
   },
   "file_extension": ".py",
   "mimetype": "text/x-python",
   "name": "python",
   "nbconvert_exporter": "python",
   "pygments_lexer": "ipython3",
   "version": "3.12.8"
  }
 },
 "nbformat": 4,
 "nbformat_minor": 2
}
